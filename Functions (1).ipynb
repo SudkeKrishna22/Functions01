{
  "nbformat": 4,
  "nbformat_minor": 0,
  "metadata": {
    "colab": {
      "provenance": []
    },
    "kernelspec": {
      "name": "python3",
      "display_name": "Python 3"
    },
    "language_info": {
      "name": "python"
    }
  },
  "cells": [
    {
      "cell_type": "markdown",
      "source": [
        "1. What is the difference between a function and a method in Python?\n",
        "  -  a function is a reusable block of code that can be called by name, while a method is a function that's associated with an object or class\n",
        "\n",
        "  def sum(a,b):\n",
        "      return a+b\n",
        "  you can use it anywhere\n",
        "\n",
        "  class C :    \n",
        "      def sum (self , a ,b ):\n",
        "          return a+b\n",
        "    you cant use it without class"
      ],
      "metadata": {
        "id": "XPROVkjjg4pa"
      }
    },
    {
      "cell_type": "markdown",
      "source": [
        " 2. Explain the concept of function arguments and parameters in Python?\n",
        "    - function parameters are placeholders for values that a function will\n",
        "      receive, while arguments are the actual values passed to the function when it's called."
      ],
      "metadata": {
        "id": "e_QCX77hg2y3"
      }
    },
    {
      "cell_type": "markdown",
      "source": [
        " 3. What are the different ways to define and call a function in Python?\n",
        "  - you define a function using the def keyword, followed by the function name, parentheses for parameters, and a colon, then indent the function's code block. To call a function, simply use its name followed by parentheses, optionally with arguments."
      ],
      "metadata": {
        "id": "6CgCrWHZh1Is"
      }
    },
    {
      "cell_type": "markdown",
      "source": [
        "4. What is the purpose of the `return` statement in a Python function ?\n",
        "  - The return statement in a Python function signals the end of its execution and sends a value (or None if no value is specified) back to the caller, allowing the function's output to be used else where in the program."
      ],
      "metadata": {
        "id": "ETyXAAGUijJ6"
      }
    },
    {
      "cell_type": "markdown",
      "source": [
        "5. What are iterators in Python and how do they differ from iterables?\n",
        "  - An Iterable is basically an object that any user can iterate over. An\n",
        "   Iterator is also an object that helps a user in iterating over another object (that is iterable). We can generate an iterator when we pass the object to the iter() method."
      ],
      "metadata": {
        "id": "k3jWK4EbizsP"
      }
    },
    {
      "cell_type": "markdown",
      "source": [
        "6. Explain the concept of generators in Python and how they are defined.\n",
        "  -  generators are functions that return an iterator, producing values on demand using the yield keyword rather than return, enabling efficient memory management for large sequences."
      ],
      "metadata": {
        "id": "kCDe0rrGjDYZ"
      }
    },
    {
      "cell_type": "markdown",
      "source": [
        "7. What are the advantages of using generators over regular functions?\n",
        "   - Generators offer advantages over regular functions, particularly in memory efficiency and lazy evaluation, by yielding values one at a time instead of returning the entire sequence at once, making them ideal for large datasets or infinite streams.\n",
        "   "
      ],
      "metadata": {
        "id": "xMytQ0O-jP4H"
      }
    },
    {
      "cell_type": "markdown",
      "source": [
        " 8. What is a lambda function in Python and when is it typically used?\n",
        "  - a lambda function (also called an anonymous function) is a concise way to define a small, single-expression function without a name, typically used for short, throwaway"
      ],
      "metadata": {
        "id": "-Ll9XY1Zjg88"
      }
    },
    {
      "cell_type": "markdown",
      "source": [
        " 9. Explain the purpose and usage of the `map()` function in Python.\n",
        "  - The map() function in Python applies a given function to each item of an iterable (like a list or tuple) and returns an iterator that yields the results, effectively transforming the iterable without needing explicit loops.  "
      ],
      "metadata": {
        "id": "ro8ULYBRj4sF"
      }
    },
    {
      "cell_type": "markdown",
      "source": [
        " 10. What is the difference between `map()`, `reduce()`, and `filter()` functions in Python?\n",
        "- In Python, map() applies a function to each item in an iterable, filter() selects items based on a condition, and reduce() (from functools) combines elements into a single value."
      ],
      "metadata": {
        "id": "8lJs0s21krQd"
      }
    },
    {
      "cell_type": "markdown",
      "source": [
        "11. Using pen & Paper write the internal mechanism for sum operation using  reduce function on this given list : [47,11,42,13]\n",
        " - from functools import reduce\n",
        "    L = [47,11,42,13]\n",
        "\n",
        "   reduce(lambda x  , y: x + y , L)\n",
        "\n",
        "   first x = 47 , y = 11 ==> x+y = 58\n",
        "   x = 58 , y =  42 ==> x+y = 100\n",
        "   x = 100 , y = 13 = x + y  = 113\n",
        "   return 113"
      ],
      "metadata": {
        "id": "zhPoh6nfk67w"
      }
    },
    {
      "cell_type": "markdown",
      "source": [],
      "metadata": {
        "id": "KZmuWDyGkKCs"
      }
    },
    {
      "cell_type": "code",
      "source": [
        "# 1. Write a Python function that takes a list of numbers as input and returns the sum of all even numbers in the list.\n",
        "input_str = input(\"Enter the list of numbers separated by commas: \")\n",
        "\n",
        "L = [int(num) for num in input_str.split(',')]\n",
        "\n",
        "def sum (l):\n",
        "  sum = 0\n",
        "  for i in l :\n",
        "    if i % 2 == 0 :\n",
        "      sum = sum + i\n",
        "  return sum\n",
        "\n",
        "print(sum(L))"
      ],
      "metadata": {
        "colab": {
          "base_uri": "https://localhost:8080/"
        },
        "id": "kLpDei8_nO61",
        "outputId": "dc96a0e4-9da2-4579-b215-c45f575ef373"
      },
      "execution_count": null,
      "outputs": [
        {
          "output_type": "stream",
          "name": "stdout",
          "text": [
            "Enter the list of numbers separated by commas: 47,11,42,13\n",
            "42\n"
          ]
        }
      ]
    },
    {
      "cell_type": "code",
      "source": [
        "#2. Create a Python function that accepts a string and returns the reverse of that string.\n",
        "string = input(\"Enter the str : \")\n",
        "\n",
        "\n",
        "def my_function(x):\n",
        "  return x[::-1]\n",
        "\n",
        "mytxt = my_function(string)\n",
        "\n",
        "print(mytxt)"
      ],
      "metadata": {
        "colab": {
          "base_uri": "https://localhost:8080/"
        },
        "id": "5gynG-Ajp1Zv",
        "outputId": "e240d83f-de45-4642-f688-91842d9bb412"
      },
      "execution_count": null,
      "outputs": [
        {
          "output_type": "stream",
          "name": "stdout",
          "text": [
            "Enter the str : krishsudke\n",
            "ekdushsirk\n"
          ]
        }
      ]
    },
    {
      "cell_type": "code",
      "source": [
        "#  3. Implement a Python function that takes a list of integers and returns a new list containing the squares of each number.\n",
        "input_str = input(\"Enter the list of numbers separated by commas: \")\n",
        "\n",
        "L = [int(num) for num in input_str.split(',')]\n",
        "\n",
        "def my_function(l):\n",
        "  return [i **2 for i in l]\n",
        "\n",
        "Square_list = my_function(L)\n",
        "print(Square_list)"
      ],
      "metadata": {
        "colab": {
          "base_uri": "https://localhost:8080/"
        },
        "id": "koxvpfpyp08E",
        "outputId": "0664ba51-686d-40c2-ecdb-d06cf5ac4191"
      },
      "execution_count": null,
      "outputs": [
        {
          "output_type": "stream",
          "name": "stdout",
          "text": [
            "Enter the list of numbers separated by commas: 1,2,3,4,5\n",
            "[1, 4, 9, 16, 25]\n"
          ]
        }
      ]
    },
    {
      "cell_type": "code",
      "source": [
        "#  4. Write a Python function that checks if a given number is prime or not from 1 to 200.\n",
        "num = int(input(\"Enter a number\"))\n",
        "\n",
        "def isprime (num):\n",
        "  if num > 200:\n",
        "    return \"Out of range\"\n",
        "  for i in range(2,num):\n",
        "    if num % i == 0:\n",
        "      return \"not prime\"\n",
        "\n",
        "\n",
        "print(isprime(num))\n"
      ],
      "metadata": {
        "colab": {
          "base_uri": "https://localhost:8080/"
        },
        "id": "zv_07TdTnO3s",
        "outputId": "df18eab6-c61b-48a0-8b77-e73950df0ebe"
      },
      "execution_count": null,
      "outputs": [
        {
          "output_type": "stream",
          "name": "stdout",
          "text": [
            "Enter a number212\n",
            "Out of range\n"
          ]
        }
      ]
    },
    {
      "cell_type": "code",
      "source": [
        "# 5. Create an iterator class in Python that generates the Fibonacci sequence up to a specified number of terms.\n",
        "def fibonacci():\n",
        "    x, y = 0, 1\n",
        "    while True:\n",
        "        yield x\n",
        "        x, y = y, x + y\n",
        "\n",
        "n = int(input(\"Input the number of Fibonacci numbers you want to generate? \"))\n",
        "\n",
        "print(\"Number of first \",n,\"Fibonacci numbers:\")\n",
        "fib = fibonacci()\n",
        "for _ in range(n):\n",
        "    print(next(fib),end=\" \")\n"
      ],
      "metadata": {
        "id": "isx3MZzDnO1h",
        "colab": {
          "base_uri": "https://localhost:8080/"
        },
        "outputId": "1c3579be-bff7-4444-dafb-48bcc8cd65da"
      },
      "execution_count": null,
      "outputs": [
        {
          "output_type": "stream",
          "name": "stdout",
          "text": [
            "Input the number of Fibonacci numbers you want to generate? 5\n",
            "Number of first  5 Fibonacci numbers:\n",
            "0 1 1 2 3 "
          ]
        }
      ]
    },
    {
      "cell_type": "code",
      "source": [
        "#  6. Write a generator function in Python that yields the powers of 2 up to a given exponent.\n",
        "def power_generator(base, exponent):\n",
        "    result = 1\n",
        "    for i in range(exponent + 1):\n",
        "        yield result\n",
        "        result *= base\n",
        "\n",
        "base = int(input(\"Input the base number: \"))\n",
        "exponent = int(input(\"Input the exponent: \"))\n",
        "\n",
        "power_gen = power_generator(base, exponent)\n",
        "\n",
        "print(f\"Powers of {base} up to exponent {exponent}:\")\n",
        "for power in power_gen:\n",
        "    print(power)\n"
      ],
      "metadata": {
        "id": "iK58imJYnOx9",
        "colab": {
          "base_uri": "https://localhost:8080/"
        },
        "outputId": "cc1f45ca-31e9-4328-c5a9-54c20b47788e"
      },
      "execution_count": null,
      "outputs": [
        {
          "output_type": "stream",
          "name": "stdout",
          "text": [
            "Input the base number: 5\n",
            "Input the exponent: 2\n",
            "Powers of 5 up to exponent 2:\n",
            "1\n",
            "5\n",
            "25\n"
          ]
        }
      ]
    },
    {
      "cell_type": "code",
      "source": [
        "# 7. Implement a generator function that reads a file line by line and yields each line as a string.\n",
        "def csv_reader(file_name): #Enter file name\n",
        "    file = open(file_name) #Enter file name\n",
        "    result = file.read().split(\"\\n\")\n",
        "    return result"
      ],
      "metadata": {
        "id": "SNa1CqHbnOvR"
      },
      "execution_count": null,
      "outputs": []
    },
    {
      "cell_type": "code",
      "source": [
        "#  8. Use a lambda function in Python to sort a list of tuples based on the second element of each tuple.\n",
        "\n",
        "subject_marks = [('English', 80), ('Science', 97), ('Maths', 69), ('History', 88)]\n",
        "\n",
        "\n",
        "print(\"Original list of tuples:\")\n",
        "print(subject_marks)\n",
        "\n",
        "\n",
        "subject_marks.sort(key=lambda x: x[1])\n",
        "\n",
        "print(\"\\nSorting the List of Tuples:\")\n",
        "print(subject_marks)\n"
      ],
      "metadata": {
        "id": "W6ZRm8Y9nOsa",
        "colab": {
          "base_uri": "https://localhost:8080/"
        },
        "outputId": "4a32eb4d-0e51-4201-9d57-5d8e7c2a0409"
      },
      "execution_count": 5,
      "outputs": [
        {
          "output_type": "stream",
          "name": "stdout",
          "text": [
            "Original list of tuples:\n",
            "[('English', 80), ('Science', 97), ('Maths', 69), ('History', 88)]\n",
            "\n",
            "Sorting the List of Tuples:\n",
            "[('Maths', 69), ('English', 80), ('History', 88), ('Science', 97)]\n"
          ]
        }
      ]
    },
    {
      "cell_type": "code",
      "source": [
        "# 9. Write a Python program that uses `map()` to convert a list of temperatures from Celsius to Fahrenheit.\n",
        "\n",
        "# fahrenheit = (celsius * 1.8) + 32\n",
        "\n",
        "celcius = [47.5,45,22,88]\n",
        "list(map(lambda x : (x * 1.8) + 32 , celcius))\n"
      ],
      "metadata": {
        "id": "ZitxYYq_nOpt",
        "colab": {
          "base_uri": "https://localhost:8080/"
        },
        "outputId": "722a974b-7c1f-4d38-c07f-3470f9cda819"
      },
      "execution_count": 7,
      "outputs": [
        {
          "output_type": "execute_result",
          "data": {
            "text/plain": [
              "[117.5, 113.0, 71.6, 190.4]"
            ]
          },
          "metadata": {},
          "execution_count": 7
        }
      ]
    },
    {
      "cell_type": "code",
      "source": [
        "  # 10. Create a Python program that uses `filter()` to remove all the vowels from a given string.\n",
        "\n",
        "  Vowels = [\"a\" ,\"e\",\"i\",\"o\",\"u\"]\n",
        "  Str = input(\"Enter the string : \")\n",
        "\n",
        "  list (filter(lambda x : x in vowels , Str)\n",
        ")"
      ],
      "metadata": {
        "colab": {
          "base_uri": "https://localhost:8080/"
        },
        "id": "FIh6kuEjVQgK",
        "outputId": "1c44994f-2f6a-493b-ab64-5804009f7fd0"
      },
      "execution_count": 12,
      "outputs": [
        {
          "name": "stdout",
          "output_type": "stream",
          "text": [
            "Enter the string : Krish sudke\n"
          ]
        },
        {
          "output_type": "execute_result",
          "data": {
            "text/plain": [
              "['i', 'u', 'e']"
            ]
          },
          "metadata": {},
          "execution_count": 12
        }
      ]
    },
    {
      "cell_type": "code",
      "source": [
        "#  Write a Python program using lambda and map.\n",
        "L = [1,2,3,4]\n",
        "list(map(lambda x : x **2 , L))"
      ],
      "metadata": {
        "colab": {
          "base_uri": "https://localhost:8080/"
        },
        "id": "ejqMMP2bWQQO",
        "outputId": "2bbd635c-3c51-4ff2-87ed-2cb4ad92180b"
      },
      "execution_count": 13,
      "outputs": [
        {
          "output_type": "execute_result",
          "data": {
            "text/plain": [
              "[1, 4, 9, 16]"
            ]
          },
          "metadata": {},
          "execution_count": 13
        }
      ]
    },
    {
      "cell_type": "code",
      "source": [
        "#  11) Imagine an accounting routine used in a book shop. It works on a list with sublists, which look like this:\n",
        "\n",
        "#  Write a Python program, which returns a list with 2-tuples. Each tuple consists of the order number and the\n",
        "# product of the price per item and the quantity. The product should be increased by 10,- € if the value of the\n",
        "# order is smaller than 100,00 €.\n",
        "\n",
        "\n",
        "# -No answer"
      ],
      "metadata": {
        "id": "SsKPzb8bW8gA"
      },
      "execution_count": null,
      "outputs": []
    }
  ]
}